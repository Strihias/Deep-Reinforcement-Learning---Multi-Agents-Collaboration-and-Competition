{
 "cells": [
  {
   "cell_type": "markdown",
   "metadata": {},
   "source": [
    "# Collaboration and Competition\n",
    "\n",
    "---\n",
    "\n",
    "You are welcome to use this coding environment to train your agent for the project.  Follow the instructions below to get started!\n",
    "\n",
    "### 1. Start the Environment\n",
    "\n",
    "Run the next code cell to install a few packages.  This line will take a few minutes to run!"
   ]
  },
  {
   "cell_type": "code",
   "execution_count": 1,
   "metadata": {},
   "outputs": [
    {
     "name": "stdout",
     "output_type": "stream",
     "text": [
      "\u001b[31mtensorflow 1.7.1 has requirement numpy>=1.13.3, but you'll have numpy 1.12.1 which is incompatible.\u001b[0m\r\n",
      "\u001b[31mipython 6.5.0 has requirement prompt-toolkit<2.0.0,>=1.0.15, but you'll have prompt-toolkit 3.0.31 which is incompatible.\u001b[0m\r\n",
      "\u001b[31mjupyter-console 6.4.3 has requirement jupyter-client>=7.0.0, but you'll have jupyter-client 5.2.4 which is incompatible.\u001b[0m\r\n"
     ]
    }
   ],
   "source": [
    "!pip -q install ./python"
   ]
  },
  {
   "cell_type": "markdown",
   "metadata": {},
   "source": [
    "The environment is already saved in the Workspace and can be accessed at the file path provided below. "
   ]
  },
  {
   "cell_type": "code",
   "execution_count": 2,
   "metadata": {},
   "outputs": [
    {
     "name": "stderr",
     "output_type": "stream",
     "text": [
      "INFO:unityagents:\n",
      "'Academy' started successfully!\n",
      "Unity Academy name: Academy\n",
      "        Number of Brains: 1\n",
      "        Number of External Brains : 1\n",
      "        Lesson number : 0\n",
      "        Reset Parameters :\n",
      "\t\t\n",
      "Unity brain name: TennisBrain\n",
      "        Number of Visual Observations (per agent): 0\n",
      "        Vector Observation space type: continuous\n",
      "        Vector Observation space size (per agent): 8\n",
      "        Number of stacked Vector Observation: 3\n",
      "        Vector Action space type: continuous\n",
      "        Vector Action space size (per agent): 2\n",
      "        Vector Action descriptions: , \n"
     ]
    }
   ],
   "source": [
    "from unityagents import UnityEnvironment\n",
    "import numpy as np\n",
    "\n",
    "env = UnityEnvironment(file_name=\"/data/Tennis_Linux_NoVis/Tennis\")"
   ]
  },
  {
   "cell_type": "markdown",
   "metadata": {},
   "source": [
    "Environments contain **_brains_** which are responsible for deciding the actions of their associated agents. Here we check for the first brain available, and set it as the default brain we will be controlling from Python."
   ]
  },
  {
   "cell_type": "code",
   "execution_count": 3,
   "metadata": {},
   "outputs": [],
   "source": [
    "# get the default brain\n",
    "brain_name = env.brain_names[0]\n",
    "brain = env.brains[brain_name]"
   ]
  },
  {
   "cell_type": "markdown",
   "metadata": {},
   "source": [
    "### 2. Examine the State and Action Spaces\n",
    "\n",
    "Run the code cell below to print some information about the environment."
   ]
  },
  {
   "cell_type": "code",
   "execution_count": 4,
   "metadata": {},
   "outputs": [
    {
     "name": "stdout",
     "output_type": "stream",
     "text": [
      "Number of agents: 2\n",
      "Size of each action: 2\n",
      "There are 2 agents. Each observes a state with length: 24\n",
      "The state for the first agent looks like: [ 0.          0.          0.          0.          0.          0.          0.\n",
      "  0.          0.          0.          0.          0.          0.          0.\n",
      "  0.          0.         -6.65278625 -1.5        -0.          0.\n",
      "  6.83172083  6.         -0.          0.        ]\n"
     ]
    }
   ],
   "source": [
    "# reset the environment\n",
    "env_info = env.reset(train_mode=True)[brain_name]\n",
    "\n",
    "# number of agents \n",
    "num_agents = len(env_info.agents)\n",
    "print('Number of agents:', num_agents)\n",
    "\n",
    "# size of each action\n",
    "action_size = brain.vector_action_space_size\n",
    "print('Size of each action:', action_size)\n",
    "\n",
    "# examine the state space \n",
    "states = env_info.vector_observations\n",
    "state_size = states.shape[1]\n",
    "print('There are {} agents. Each observes a state with length: {}'.format(states.shape[0], state_size))\n",
    "print('The state for the first agent looks like:', states[0])"
   ]
  },
  {
   "cell_type": "markdown",
   "metadata": {},
   "source": [
    "### 3. Take Random Actions in the Environment\n",
    "\n",
    "In the next code cell, you will learn how to use the Python API to control the agent and receive feedback from the environment.\n",
    "\n",
    "Note that **in this coding environment, you will not be able to watch the agents while they are training**, and you should set `train_mode=True` to restart the environment."
   ]
  },
  {
   "cell_type": "code",
   "execution_count": 5,
   "metadata": {},
   "outputs": [
    {
     "name": "stdout",
     "output_type": "stream",
     "text": [
      "Total score (averaged over agents) this episode: 0.04500000085681677\n",
      "Total score (averaged over agents) this episode: -0.004999999888241291\n",
      "Total score (averaged over agents) this episode: -0.004999999888241291\n",
      "Total score (averaged over agents) this episode: -0.004999999888241291\n",
      "Total score (averaged over agents) this episode: -0.004999999888241291\n"
     ]
    }
   ],
   "source": [
    "for i in range(5):                                         # play game for 5 episodes\n",
    "    env_info = env.reset(train_mode=False)[brain_name]     # reset the environment    \n",
    "    states = env_info.vector_observations                  # get the current state (for each agent)\n",
    "    scores = np.zeros(num_agents)                          # initialize the score (for each agent)\n",
    "    while True:\n",
    "        actions = np.random.randn(num_agents, action_size) # select an action (for each agent)\n",
    "        actions = np.clip(actions, -1, 1)                  # all actions between -1 and 1\n",
    "        env_info = env.step(actions)[brain_name]           # send all actions to tne environment\n",
    "        next_states = env_info.vector_observations         # get next state (for each agent)\n",
    "        rewards = env_info.rewards                         # get reward (for each agent)\n",
    "        dones = env_info.local_done                        # see if episode finished\n",
    "        scores += env_info.rewards                         # update the score (for each agent)\n",
    "        states = next_states                               # roll over states to next time step\n",
    "        if np.any(dones):                                  # exit loop if episode finished\n",
    "            break\n",
    "    print('Total score (averaged over agents) this episode: {}'.format(np.mean(scores)))"
   ]
  },
  {
   "cell_type": "markdown",
   "metadata": {},
   "source": [
    "### 4. Multi-agent Algorithm\n",
    "\n"
   ]
  },
  {
   "cell_type": "markdown",
   "metadata": {},
   "source": [
    "### Hyperparameters"
   ]
  },
  {
   "cell_type": "code",
   "execution_count": 7,
   "metadata": {},
   "outputs": [],
   "source": [
    "BUFFER_SIZE = int(1e5)  # replay buffer size\n",
    "BATCH_SIZE = 128         # minibatch size\n",
    "GAMMA = 0.99            # discount factor\n",
    "TAU = 1e-3              # for soft update of target parameters\n",
    "LR_ACTOR = 1e-4         # learning rate of the actor\n",
    "LR_CRITIC = 1e-4        # learning rate of the critic\n",
    "WEIGHT_DECAY = 0      # L2 weight decay"
   ]
  },
  {
   "cell_type": "markdown",
   "metadata": {},
   "source": [
    "### Traing Multi-Agents with DDPG"
   ]
  },
  {
   "cell_type": "code",
   "execution_count": 8,
   "metadata": {},
   "outputs": [
    {
     "name": "stdout",
     "output_type": "stream",
     "text": [
      "Episode 100\tScore 100: 0.00 \t\n",
      "Episode 200\tScore 100: 0.00 \t\n",
      "Episode 300\tScore 100: 0.00 \t\n",
      "Episode 400\tScore 100: 0.00 \t\n",
      "Episode 500\tScore 100: 0.00 \t\n",
      "Episode 600\tScore 100: 0.00 \t\n",
      "Episode 700\tScore 100: 0.00 \t\n",
      "Episode 800\tScore 100: 0.00 \t\n",
      "Episode 900\tScore 100: 0.00 \t\n",
      "Episode 1000\tScore 100: 0.00 \t\n",
      "Episode 1100\tScore 100: 0.00 \t\n",
      "Episode 1200\tScore 100: 0.00 \t\n",
      "Episode 1300\tScore 100: 0.00 \t\n",
      "Episode 1400\tScore 100: 0.00 \t\n",
      "Episode 1500\tScore 100: 0.00 \t\n",
      "Episode 1600\tScore 100: 0.00 \t\n",
      "Episode 1700\tScore 100: 0.01 \t\n",
      "Episode 1800\tScore 100: 0.01 \t\n",
      "Episode 1900\tScore 100: 0.01 \t\n",
      "Episode 2000\tScore 100: 0.00 \t\n",
      "Episode 2100\tScore 100: 0.01 \t\n",
      "Episode 2200\tScore 100: 0.01 \t\n",
      "Episode 2300\tScore 100: 0.03 \t\n",
      "Episode 2400\tScore 100: 0.02 \t\n",
      "Episode 2500\tScore 100: 0.02 \t\n",
      "Episode 2600\tScore 100: 0.03 \t\n",
      "Episode 2700\tScore 100: 0.06 \t\n",
      "Episode 2800\tScore 100: 0.05 \t\n",
      "Episode 2900\tScore 100: 0.04 \t\n",
      "Episode 3000\tScore 100: 0.07 \t\n",
      "Episode 3100\tScore 100: 0.10 \t\n",
      "Episode 3200\tScore 100: 0.10 \t\n",
      "Episode 3300\tScore 100: 0.11 \t\n",
      "Episode 3400\tScore 100: 0.12 \t\n",
      "Episode 3500\tScore 100: 0.13 \t\n",
      "Episode 3600\tScore 100: 0.17 \t\n",
      "Episode 3700\tScore 100: 0.35 \t\n",
      "Episode 3800\tScore 100: 0.33 \t\n",
      "Episode 3900\tScore 100: 0.37 \t\n",
      "Episode 4000\tScore 100: 0.19 \t\n",
      "Episode 4100\tScore 100: 0.49 \t\n",
      "\n",
      "Environment solved in 4002 episodes!\tAverage Score: 0.50\n"
     ]
    },
    {
     "data": {
      "image/png": "[encoded data removed]",
      "text/plain": [
       "<matplotlib.figure.Figure at 0x7fc9f5c5ac88>"
      ]
     },
     "metadata": {
      "needs_background": "light"
     },
     "output_type": "display_data"
    }
   ],
   "source": [
    "import random\n",
    "import torch\n",
    "import numpy as np\n",
    "from collections import deque\n",
    "import matplotlib.pyplot as plt\n",
    "%matplotlib inline\n",
    "\n",
    "# Instantiate Agent\n",
    "from ddpg_agent import Agent\n",
    "env_info = env.reset(train_mode=True)[brain_name]  \n",
    "random_seed = 12345\n",
    "agent = Agent(state_size, action_size, num_agents, random_seed,\n",
    "                BUFFER_SIZE, BATCH_SIZE, GAMMA, TAU, LR_ACTOR, LR_CRITIC, WEIGHT_DECAY)\n",
    "\n",
    "\n",
    "def multi_ddpg_train(num_episodes=15000, max_t=1000, stepsize = 100):\n",
    "    \n",
    "    stepsize = stepsize\n",
    "    scores = []                                          \n",
    "    scores_window = deque(maxlen=stepsize)               # last X scores\n",
    "    \n",
    "    \n",
    "\n",
    "    for i in range(1,num_episodes+1):\n",
    "        rewards = []\n",
    "        score = np.zeros(num_agents)                                \n",
    "        env_info = env.reset(train_mode=True)[brain_name]  \n",
    "        agent.reset()                                      \n",
    "        state = env_info.vector_observations                    # get initial state\n",
    "        for t in range(max_t):\n",
    "            action = agent.act(state)                   \n",
    "            env_info = env.step(action)[brain_name]        \n",
    "            next_state = env_info.vector_observations   \n",
    "            reward = env_info.rewards                \n",
    "            done = env_info.local_done                 \n",
    "            \n",
    "            agent.step(state, action, reward, next_state, done) # update agent\n",
    "                \n",
    "            state = next_state                            \n",
    "            rewards.append(reward)  #add rewards\n",
    "            \n",
    "            if np.any(done):                                       \n",
    "                break\n",
    "                \n",
    "        episode_reward = np.max(np.sum(rewards,axis=0))            \n",
    "        \n",
    "        scores.append(episode_reward)                              \n",
    "        scores_window.append(episode_reward)                        \n",
    "\n",
    "        \n",
    "        if (i % 100 == 0):\n",
    "            print('\\rEpisode {}\\tScore 100: {:.2f} \\t'.format(i, np.mean(scores_window)))\n",
    "        \n",
    "            \n",
    "        if np.mean(scores_window)>=0.5:\n",
    "            print('\\nEnvironment solved in {:d} episodes!\\tAverage Score: {:.2f}'.format(i-stepsize, np.mean(scores_window)))\n",
    "            agent.checkpoint()\n",
    "            break   \n",
    "\n",
    "    plt.plot(np.arange(1, len(scores)+1), scores)\n",
    "    plt.ylabel('Score')\n",
    "    plt.xlabel('Episode #')\n",
    "    plt.show()    \n",
    "\n",
    "\n",
    "# train the agent\n",
    "multi_ddpg_train()"
   ]
  },
  {
   "cell_type": "code",
   "execution_count": 9,
   "metadata": {},
   "outputs": [],
   "source": [
    "env.close()"
   ]
  }
 ],
 "metadata": {
  "kernelspec": {
   "display_name": "Python 3",
   "language": "python",
   "name": "python3"
  },
  "language_info": {
   "codemirror_mode": {
    "name": "ipython",
    "version": 3
   },
   "file_extension": ".py",
   "mimetype": "text/x-python",
   "name": "python",
   "nbconvert_exporter": "python",
   "pygments_lexer": "ipython3",
   "version": "3.6.3"
  }
 },
 "nbformat": 4,
 "nbformat_minor": 2
}
